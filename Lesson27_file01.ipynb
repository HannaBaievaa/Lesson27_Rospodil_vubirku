{
 "cells": [
  {
   "cell_type": "markdown",
   "id": "9966a4c3",
   "metadata": {},
   "source": [
    "**Рішення завдання №1**"
   ]
  },
  {
   "cell_type": "markdown",
   "id": "22619ede-1906-48dd-acd4-5b1b127534fb",
   "metadata": {},
   "source": [
    "За умовою задачі маємо велику кількість випробувань n=10000, імовірність близьку до нулю p=0.0007,тобто моаємо розподіл Пуассона. Розрахуємо математичне сподівання Mx за формулою: Mx=n*p"
   ]
  },
  {
   "cell_type": "code",
   "execution_count": 2,
   "id": "5cced365-d64e-480c-ac5e-0e74abcb79e3",
   "metadata": {
    "scrolled": true
   },
   "outputs": [
    {
     "data": {
      "text/plain": [
       "7.0"
      ]
     },
     "execution_count": 2,
     "metadata": {},
     "output_type": "execute_result"
    }
   ],
   "source": [
    "n=10000\n",
    "p=0.0007\n",
    "Mx=n*p\n",
    "Mx"
   ]
  },
  {
   "cell_type": "markdown",
   "id": "28f3e6d3-58eb-4a9c-8b6d-35612edf0b5b",
   "metadata": {},
   "source": [
    "Розрахуємо дисперсію Dx за формулою: Dx=Mx"
   ]
  },
  {
   "cell_type": "code",
   "execution_count": 4,
   "id": "2f79e65a-49f9-4d60-b2bd-49c9235470ea",
   "metadata": {},
   "outputs": [
    {
     "data": {
      "text/plain": [
       "7.0"
      ]
     },
     "execution_count": 4,
     "metadata": {},
     "output_type": "execute_result"
    }
   ],
   "source": [
    "Dx=Mx\n",
    "Dx"
   ]
  },
  {
   "cell_type": "markdown",
   "id": "feebe2b2-77ff-4f47-a258-a198b06ed066",
   "metadata": {},
   "source": [
    " Розрахуємо середнє квадратичне відхиленя Sx за формулою: Sx=Dx**0.5"
   ]
  },
  {
   "cell_type": "code",
   "execution_count": 5,
   "id": "d43c72a7-cefd-492d-b397-f53a64b8aecf",
   "metadata": {},
   "outputs": [
    {
     "data": {
      "text/plain": [
       "2.6457513110645907"
      ]
     },
     "execution_count": 5,
     "metadata": {},
     "output_type": "execute_result"
    }
   ],
   "source": [
    "Sx=Dx**0.5\n",
    "Sx"
   ]
  },
  {
   "cell_type": "markdown",
   "id": "21d5a0c4",
   "metadata": {},
   "source": [
    "**Рішення задачі №2**"
   ]
  },
  {
   "cell_type": "markdown",
   "id": "b915c04d-d924-4348-aae0-c8001a1a3e84",
   "metadata": {},
   "source": [
    "За умовою задачі маємо велику кількість випробувань n=10000.Знайдемо ймовірність p за формулою: p=(100-q)/100, де q=99.9 за умовою задачі."
   ]
  },
  {
   "cell_type": "code",
   "execution_count": 16,
   "id": "0d0b8c81-9dfd-4fe8-b77d-1d0eed605327",
   "metadata": {},
   "outputs": [
    {
     "data": {
      "text/plain": [
       "0.00010000000000005117"
      ]
     },
     "execution_count": 16,
     "metadata": {},
     "output_type": "execute_result"
    }
   ],
   "source": [
    "q=99.99\n",
    "p=(100-q)/100\n",
    "p"
   ]
  },
  {
   "cell_type": "markdown",
   "id": "361526a7-21ca-462a-9370-a0cf59b0ef39",
   "metadata": {},
   "source": [
    "Величина X має Пуасонівський закон розподілу.Знайдемо за наступними формулами дисперсію Dx та середнє квадратичне відхиленя Sx :Dx=n*p, Sx=Dx**0.5."
   ]
  },
  {
   "cell_type": "code",
   "execution_count": 17,
   "id": "1facb467-1058-4f8f-965c-bfb041ffff92",
   "metadata": {},
   "outputs": [
    {
     "data": {
      "text/plain": [
       "1.0000000000005116"
      ]
     },
     "execution_count": 17,
     "metadata": {},
     "output_type": "execute_result"
    }
   ],
   "source": [
    "\n",
    "Dx=n*p\n",
    "Dx"
   ]
  },
  {
   "cell_type": "code",
   "execution_count": 18,
   "id": "bed9b929-a159-4a51-8c1f-3cb8267d3c9b",
   "metadata": {},
   "outputs": [
    {
     "data": {
      "text/plain": [
       "1.0000000000002558"
      ]
     },
     "execution_count": 18,
     "metadata": {},
     "output_type": "execute_result"
    }
   ],
   "source": [
    "Sx=Dx**0.5\n",
    "Sx"
   ]
  }
 ],
 "metadata": {
  "kernelspec": {
   "display_name": "Python 3 (ipykernel)",
   "language": "python",
   "name": "python3"
  },
  "language_info": {
   "codemirror_mode": {
    "name": "ipython",
    "version": 3
   },
   "file_extension": ".py",
   "mimetype": "text/x-python",
   "name": "python",
   "nbconvert_exporter": "python",
   "pygments_lexer": "ipython3",
   "version": "3.10.11"
  }
 },
 "nbformat": 4,
 "nbformat_minor": 5
}
